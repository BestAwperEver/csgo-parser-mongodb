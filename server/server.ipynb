{
 "cells": [
  {
   "cell_type": "code",
   "execution_count": 1,
   "metadata": {},
   "outputs": [
    {
     "data": {
      "text/plain": [
       "True"
      ]
     },
     "execution_count": 1,
     "metadata": {},
     "output_type": "execute_result"
    },
    {
     "name": "stderr",
     "output_type": "stream",
     "text": [
      "C:\\Program Files\\Anaconda3\\lib\\site-packages\\gevent\\hub.py:154: UserWarning: libuv only supports millisecond timer resolution; all times less will be set to 1 ms\n",
      "  with loop.timer(seconds, ref=ref) as t:\n"
     ]
    }
   ],
   "source": [
    "import gevent.monkey\n",
    "gevent.monkey.patch_all(thread=False)"
   ]
  },
  {
   "cell_type": "code",
   "execution_count": 2,
   "metadata": {},
   "outputs": [
    {
     "name": "stderr",
     "output_type": "stream",
     "text": [
      "C:\\Program Files\\Anaconda3\\lib\\site-packages\\gevent\\hub.py:154: UserWarning: libuv only supports millisecond timer resolution; all times less will be set to 1 ms\n",
      "  with loop.timer(seconds, ref=ref) as t:\n"
     ]
    }
   ],
   "source": [
    "import logging\n",
    "from steam.client import SteamClient\n",
    "from csgo.client import CSGOClient\n",
    "from steam.enums import EResult\n",
    "from csgo import sharecode\n",
    "import bz2\n",
    "from urllib import request\n",
    "from google.protobuf.json_format import MessageToJson\n",
    "import json\n",
    "import bz2\n",
    "from urllib import request\n",
    "import queue\n",
    "\n",
    "\n",
    "from http.server import BaseHTTPRequestHandler, HTTPServer\n",
    "from io import BytesIO\n",
    "from urllib.parse import parse_qs"
   ]
  },
  {
   "cell_type": "code",
   "execution_count": 3,
   "metadata": {},
   "outputs": [],
   "source": [
    "class GoClient(CSGOClient):\n",
    "    decoded = queue.Queue()"
   ]
  },
  {
   "cell_type": "code",
   "execution_count": 4,
   "metadata": {},
   "outputs": [],
   "source": [
    "logging.basicConfig(format=\"%(asctime)s | %(message)s\", level=logging.INFO)\n",
    "LOG = logging.getLogger()\n",
    "\n",
    "client = SteamClient()\n",
    "client.set_credential_location(\".\")\n",
    "\n",
    "goclient = GoClient(client)\n",
    "\n",
    "@goclient.on(\"ready\")\n",
    "def handle_ready():\n",
    "    goclient.request_full_match_info(**goclient.decoded.get())\n",
    "    goclient.decoded.task_done()\n",
    "\n",
    "@goclient.on(\"full_match_info\")\n",
    "def handle_full_match_info(msg):\n",
    "    goclient.exit()\n",
    "#     goclient.request_recent_user_games(goclient.account_id)\n",
    "#     print(str(goclient.wait_msg(\"recent_user_games\"))[0:100])\n",
    "    msg = MessageToJson(msg)\n",
    "    links = find_values(msg)\n",
    "    if len(links) == 0:\n",
    "        return\n",
    "    demo_url = links[0]\n",
    "    demo_name = demo_url.split('/')[-1].split('.')[0]\n",
    "    path_to_data = \"D:\\\\Dev\\\\demoparse-data\\\\\"\n",
    "    path_to_bz2 = path_to_data + \"bz2\\\\\" + demo_url.split('/')[-1]\n",
    "    path_to_dem = path_to_data + \"dem\\\\\" + demo_name + '.dem'\n",
    "    with bz2.open(path_to_bz2, 'rb') as f:\n",
    "        content = f.read()\n",
    "    with open(path_to_dem, 'wb') as of:\n",
    "        of.write(content)\n",
    "    path_to_demoparser_executable = \"c:\\\\Users\\\\admin\\\\go\\\\src\\\\csgo-parser-mongodb\\\\bin\\\\demoparse-mongo.exe\"\n",
    "    !{path_to_demoparser_executable + \" -dbname \" + demo_name + \" -dpath \\\"\" + path_to_dem + \"\\\"\"}\n",
    "\n",
    "@client.on(\"error\")\n",
    "def handle_error(result):\n",
    "    LOG.info(\"Logon result: %s\", repr(result))\n",
    "    \n",
    "@client.on(\"chat_message\")\n",
    "def handle_chat_messame(user, message):\n",
    "    LOG.info(\"Chat message from %s: %s\", user.name, message)\n",
    "    if message[0:6] != \"steam:\":\n",
    "        user.send_message(\"Hi there, I'm not actually online. Pls contact me on my main acc (lolwto?!)\")\n",
    "        return\n",
    "    else:\n",
    "        user.send_message(\"Your match is being saved to the database, thank you for participating in the alpha!\")\n",
    "    link = message.replace('%20',' ').split()[-1]\n",
    "    print(link)\n",
    "    decoded = ''\n",
    "    try:\n",
    "        decoded = sharecode.decode(link)\n",
    "    except ValueError:\n",
    "        print(\"incorrect link\")\n",
    "        return\n",
    "    print(\"decoded: \", decoded)\n",
    "    goclient.decoded.put(sharecode.decode(link))\n",
    "    goclient.launch()\n",
    "\n",
    "@client.on(\"channel_secured\")\n",
    "def send_login():\n",
    "    if client.relogin_available:\n",
    "        client.relogin()\n",
    "\n",
    "@client.on(\"connected\")\n",
    "def handle_connected():\n",
    "    LOG.info(\"Connected to %s\", client.current_server_addr)\n",
    "\n",
    "@client.on(\"reconnect\")\n",
    "def handle_reconnect(delay):\n",
    "    LOG.info(\"Reconnect in %ds...\", delay)\n",
    "\n",
    "@client.on(\"disconnected\")\n",
    "def handle_disconnect():\n",
    "    LOG.info(\"Disconnected.\")\n",
    "\n",
    "    if client.relogin_available:\n",
    "        LOG.info(\"Reconnecting...\")\n",
    "        client.reconnect(maxdelay=30)\n",
    "\n",
    "@client.on(\"logged_on\")\n",
    "def handle_after_logon():\n",
    "    LOG.info(\"-\"*30)\n",
    "    LOG.info(\"Logged on as: %s\", client.user.name)\n",
    "    LOG.info(\"Community profile: %s\", client.steam_id.community_url)\n",
    "    LOG.info(\"Last logon: %s\", client.user.last_logon)\n",
    "    LOG.info(\"Last logoff: %s\", client.user.last_logoff)"
   ]
  },
  {
   "cell_type": "code",
   "execution_count": 5,
   "metadata": {},
   "outputs": [],
   "source": [
    "def client_run():\n",
    "    try:\n",
    "        result = client.cli_login()\n",
    "\n",
    "        if result != EResult.OK:\n",
    "            LOG.info(\"Failed to login: %s\" % repr(result))\n",
    "            raise SystemExit\n",
    "\n",
    "#         client.run_forever()\n",
    "    except KeyboardInterrupt:\n",
    "        if client.connected:\n",
    "            LOG.info(\"Logout\")\n",
    "            client.logout()"
   ]
  },
  {
   "cell_type": "code",
   "execution_count": 6,
   "metadata": {},
   "outputs": [],
   "source": [
    "# HTTPRequestHandler class\n",
    "class testHTTPServer_RequestHandler(BaseHTTPRequestHandler):\n",
    " \n",
    "  # GET\n",
    "    def do_GET(self):\n",
    "        self.send_response(200)\n",
    "        self.send_header('Content-type','text/html')\n",
    "        self.end_headers()\n",
    " \n",
    "        message = \"Hello world!\"\n",
    "        self.wfile.write(bytes(message, \"utf8\"))\n",
    "\n",
    "    def do_POST(self):\n",
    "        content_length = int(self.headers['Content-Length'])\n",
    "        body = self.rfile.read(content_length)\n",
    "        fields = parse_qs(body)\n",
    "        \n",
    "        self.send_response(200)\n",
    "        self.end_headers()\n",
    "        response = BytesIO()\n",
    "#         response.write(b'This is POST request. ')\n",
    "        response.write(b'Received: ')\n",
    "        response.write(body)\n",
    "        self.wfile.write(response.getvalue())\n",
    "        \n",
    "        link = fields.get(b'param1', [b'no link'])[0].decode().split()[-1]\n",
    "        print(link)\n",
    "        decoded = ''        \n",
    "        try:\n",
    "            decoded = sharecode.decode(link)\n",
    "        except ValueError:\n",
    "            print(\"incorrect link\")\n",
    "            return\n",
    "        print(\"decoded: \", decoded)\n",
    "        goclient.decoded.put(decoded)\n",
    "        goclient.launch()\n",
    "#         goclient.wait_msg(\"ready\", 5)\n",
    "#         if goclient.connection_status == 0:\n",
    "#             print(\"goclient.connection_status == 0\")\n",
    "#             return\n",
    "#         goclient.request_full_match_info(**decoded)\n",
    "        "
   ]
  },
  {
   "cell_type": "code",
   "execution_count": 7,
   "metadata": {},
   "outputs": [],
   "source": [
    "def run():\n",
    "    print('starting server...')\n",
    " \n",
    "    server_address = ('127.0.0.1', 8081)\n",
    "    httpd = HTTPServer(server_address, testHTTPServer_RequestHandler)\n",
    "    print('running server...')\n",
    "    httpd.serve_forever()\n",
    "    \n",
    "def find_values(json_repr, id='map'):\n",
    "    results = []\n",
    "\n",
    "    def _decode_dict(a_dict):\n",
    "        try: results.append(a_dict[id])\n",
    "        except KeyError: pass\n",
    "        return a_dict\n",
    "\n",
    "    json.loads(json_repr, object_hook=_decode_dict)\n",
    "    return results"
   ]
  },
  {
   "cell_type": "code",
   "execution_count": 8,
   "metadata": {},
   "outputs": [
    {
     "name": "stderr",
     "output_type": "stream",
     "text": [
      "2019-06-16 22:59:50,949 | Connected to ('162.254.198.130', 27018)\n",
      "2019-06-16 22:59:51,592 | ------------------------------\n",
      "C:\\Program Files\\Anaconda3\\lib\\site-packages\\gevent\\hub.py:154: UserWarning: libuv only supports millisecond timer resolution; all times less will be set to 1 ms\n",
      "  with loop.timer(seconds, ref=ref) as t:\n"
     ]
    }
   ],
   "source": [
    "client_run()"
   ]
  },
  {
   "cell_type": "code",
   "execution_count": null,
   "metadata": {},
   "outputs": [
    {
     "name": "stdout",
     "output_type": "stream",
     "text": [
      "starting server...\n",
      "running server...\n"
     ]
    },
    {
     "name": "stderr",
     "output_type": "stream",
     "text": [
      "2019-06-16 22:59:53,455 | Logged on as: I've seen your elbow\n",
      "2019-06-16 22:59:53,457 | Community profile: https://steamcommunity.com/profiles/76561198345386458\n",
      "2019-06-16 22:59:53,457 | Last logon: 2019-06-16 19:47:25\n",
      "2019-06-16 22:59:53,459 | Last logoff: 2019-06-16 19:47:21\n",
      "127.0.0.1 - - [16/Jun/2019 22:59:57] \"POST / HTTP/1.1\" 200 -\n"
     ]
    },
    {
     "name": "stdout",
     "output_type": "stream",
     "text": [
      "CSGO-6bpsu-cqhc7-V7ffB-8yyKq-u2dOQ\n",
      "decoded:  {'matchid': 3350660032361398514, 'outcomeid': 3350666507024597334, 'token': 11055}\n"
     ]
    },
    {
     "name": "stderr",
     "output_type": "stream",
     "text": [
      "2019-06-16 22:59:58,291 | Unable to find key for 2\n"
     ]
    },
    {
     "name": "stdout",
     "output_type": "stream",
     "text": [
      "Connected to MongoDB!\n",
      "Header: map[ClientName:GOTV Demo Filestamp:HL2DEMO GameDirectory:csgo MapName:de_overpass NetworkProtocol:13700 PlaybackFrames:96391 PlaybackTicks:193071 PlaybackTime:50m16.734277632s Protocol:4 ServerName:Valve CS:GO Poland Server (srcds028.190.53) SignonLength:547761]\n",
      "Connection to MongoDB closed.\n"
     ]
    },
    {
     "name": "stderr",
     "output_type": "stream",
     "text": [
      "2019-06-16 23:00:58,844 | Chat message from lolwto?!: steam://rungame/730/76561202255233023/+csgo_download_match%20CSGO-6bpsu-cqhc7-V7ffB-8yyKq-u2dOQ\n"
     ]
    },
    {
     "name": "stdout",
     "output_type": "stream",
     "text": [
      "CSGO-6bpsu-cqhc7-V7ffB-8yyKq-u2dOQ\n",
      "decoded:  {'matchid': 3350660032361398514, 'outcomeid': 3350666507024597334, 'token': 11055}\n"
     ]
    },
    {
     "name": "stderr",
     "output_type": "stream",
     "text": [
      "2019-06-16 23:00:59,546 | Unable to find key for 2\n"
     ]
    },
    {
     "name": "stdout",
     "output_type": "stream",
     "text": [
      "Connected to MongoDB!\n",
      "Header: map[ClientName:GOTV Demo Filestamp:HL2DEMO GameDirectory:csgo MapName:de_overpass NetworkProtocol:13700 PlaybackFrames:96391 PlaybackTicks:193071 PlaybackTime:50m16.734277632s Protocol:4 ServerName:Valve CS:GO Poland Server (srcds028.190.53) SignonLength:547761]\n",
      "Connection to MongoDB closed.\n"
     ]
    },
    {
     "name": "stderr",
     "output_type": "stream",
     "text": [
      "2019-06-16 23:03:36,968 | Chat message from aydin: steam://rungame/730/76561202255233023/+csgo_download_match%20CSGO-6bpsu-cqhc7-V7ffB-8yyKq-u2dOQ\n"
     ]
    },
    {
     "name": "stdout",
     "output_type": "stream",
     "text": [
      "CSGO-6bpsu-cqhc7-V7ffB-8yyKq-u2dOQ\n",
      "decoded:  {'matchid': 3350660032361398514, 'outcomeid': 3350666507024597334, 'token': 11055}\n"
     ]
    },
    {
     "name": "stderr",
     "output_type": "stream",
     "text": [
      "2019-06-16 23:03:37,610 | Unable to find key for 2\n"
     ]
    },
    {
     "name": "stdout",
     "output_type": "stream",
     "text": [
      "Connected to MongoDB!\n",
      "Header: map[ClientName:GOTV Demo Filestamp:HL2DEMO GameDirectory:csgo MapName:de_overpass NetworkProtocol:13700 PlaybackFrames:96391 PlaybackTicks:193071 PlaybackTime:50m16.734277632s Protocol:4 ServerName:Valve CS:GO Poland Server (srcds028.190.53) SignonLength:547761]\n",
      "Connection to MongoDB closed.\n"
     ]
    }
   ],
   "source": [
    "run()"
   ]
  },
  {
   "cell_type": "code",
   "execution_count": null,
   "metadata": {},
   "outputs": [],
   "source": []
  }
 ],
 "metadata": {
  "kernelspec": {
   "display_name": "Python 3",
   "language": "python",
   "name": "python3"
  },
  "language_info": {
   "codemirror_mode": {
    "name": "ipython",
    "version": 3
   },
   "file_extension": ".py",
   "mimetype": "text/x-python",
   "name": "python",
   "nbconvert_exporter": "python",
   "pygments_lexer": "ipython3",
   "version": "3.7.3"
  }
 },
 "nbformat": 4,
 "nbformat_minor": 2
}
